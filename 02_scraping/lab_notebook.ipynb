{
 "cells": [
  {
   "cell_type": "markdown",
   "metadata": {
    "id": "IU2Oe2lgy3XV"
   },
   "source": [
    "# Web Scraping\n",
    "\n",
    "Last time, we looked at REST API's as a source of data. You can get lots of very high quality data this way.\n",
    "\n",
    "Some data is available online, but not through an API. When this is the case, some times you can simply copy and paste the data into a .csv file and go on with your life. But if there are many records to parse and combine into a dataset, that might be impossible. Can we automate the collection of data from online sources?\n",
    "\n",
    "This is called web scraping. Broadly speaking: Web scraping is legal, but what you plan to do with the results of your scraping might not be. In general, most sites do not want you to scrape them at this point, but there is not really a way to stop you if you are sufficiently motivated. Be careful to use server resources respectfully (not too many requests per unit time), think seriously about privacy concerns, and be careful who you share your work with."
   ]
  },
  {
   "cell_type": "markdown",
   "metadata": {
    "id": "ui3HNFVXy3XX"
   },
   "source": [
    "We'll be scraping data about used cars in Charlottesville from Craigslist. This will give us a chance to put those wrangling, EDA, and visualization skills to work.\n",
    "\n",
    "We'll use the `requests` package, as we did with API's, but will be getting the kinds of web pages you see everyday. Again, we'll use a header with a user-agent that masks our true identity so that we're not rejected by the server. This particular url points to the car listings for Craigslist in Charlottesville."
   ]
  },
  {
   "cell_type": "markdown",
   "metadata": {
    "id": "a8yVtKAxy3XY"
   },
   "source": [
    "## 1. Pick something else on Craigslist: Musical instruments, roommates, antiques, etc. Look at the search page and its source code. Record which fields/data you would like to gather, and what kinds of EDA you'd do with it. I look at used cars below."
   ]
  },
  {
   "cell_type": "code",
   "metadata": {
    "id": "bT63yifry3XX",
    "ExecuteTime": {
     "end_time": "2024-10-06T21:13:23.522180Z",
     "start_time": "2024-10-06T21:13:23.158268Z"
    }
   },
   "source": [
    "import numpy as np\n",
    "import matplotlib.pyplot as plt\n",
    "import pandas as pd\n",
    "import seaborn as sns\n",
    "\n",
    "import requests # Page requests\n",
    "\n",
    "header = {'User-Agent': 'Mozilla/5.0 (Windows NT 10.0; Win64; x64; rv:124.0) Gecko/20100101 Firefox/124.0'}\n",
    "url = 'https://charlottesville.craigslist.org/search/cta?purveyor=owner#search=1~gallery~0~0'\n",
    "raw = requests.get(url, headers=header) # Get page"
   ],
   "outputs": [],
   "execution_count": 62
  },
  {
   "metadata": {},
   "cell_type": "markdown",
   "source": "My Work"
  },
  {
   "metadata": {
    "ExecuteTime": {
     "end_time": "2024-10-06T21:13:35.162656Z",
     "start_time": "2024-10-06T21:13:35.047085Z"
    }
   },
   "cell_type": "code",
   "source": [
    "header = {'User-Agent': 'Mozilla/5.0 (Windows NT 10.0; Win64; x64; rv:124.0) Gecko/20100101 Firefox/124.0'}\n",
    "url = 'https://charlottesville.craigslist.org/search/fua#search=1~gallery~0~0' # Search furniture on Craigslist\n",
    "f_raw = requests.get(url, headers=header)\n",
    "# Want to gather title, price, year, and location of items\n",
    "# Want to do analysis on furniture type, price, age of furniture, and location"
   ],
   "outputs": [],
   "execution_count": 64
  },
  {
   "cell_type": "markdown",
   "metadata": {
    "id": "GS1XkRlXy3XX"
   },
   "source": [
    "Now that we have that particular page available locally, we want to **parse** it and get results from it. To do that, we can use a package called `beautifulSoup` or `bs4`.\n",
    "\n",
    "What does `beautifulSoup` do for us? Let's go to the web page of interest. You probably see something like this:\n",
    "\n",
    "![Listings](craigslist.png \"Craigslist\")\n",
    "\n",
    "But if you \"view page source\" -- which is CTRL+U -- in Chrome, you see what the computer sees:\n",
    "\n",
    "![Listings](craigslist_source.png \"Craigslist\")\n",
    "\n",
    "Since your web browser needs lots of instructions about how to render the text, pictures, and other content on your web page, there are a lot of clues about where the data live and how to extricate them from a page. These clues are called **tags**. If you wander the source for the search page on cars, you see a particular `class = \"cl-static-search-result\"` term appear attached to each listing:\n",
    "\n",
    "![Listings](listing.png \"Craigslist\")\n",
    "\n",
    "This structure can be exploited to search the page for information. This kind of detective work -- looking at the page source, finding the interesting tages, and then searching the page with `beautifulSoup` -- is the basic job of web scraping."
   ]
  },
  {
   "cell_type": "markdown",
   "metadata": {
    "id": "NiO-E2wuy3XZ"
   },
   "source": [
    "## 2. Get your search results of interest and extract data from them, using code similar to what's below."
   ]
  },
  {
   "cell_type": "markdown",
   "metadata": {
    "id": "fEO2NpZ8y3XY"
   },
   "source": [
    "The following code chunk takes the raw content from `requests` and turns it into a beautifulSoup object, which can search the page and return results for us:"
   ]
  },
  {
   "cell_type": "code",
   "metadata": {
    "id": "lllobrYIy3XY"
   },
   "source": [
    "from bs4 import BeautifulSoup as soup # HTML parser\n",
    "bsObj = soup(raw.content,'html.parser') # Parse the html\n",
    "listings = bsObj.find_all(class_=\"cl-static-search-result\") # Find all listings"
   ],
   "outputs": [],
   "execution_count": null
  },
  {
   "metadata": {},
   "cell_type": "markdown",
   "source": "My Work"
  },
  {
   "metadata": {
    "ExecuteTime": {
     "end_time": "2024-10-06T21:13:51.790308Z",
     "start_time": "2024-10-06T21:13:51.634775Z"
    }
   },
   "cell_type": "code",
   "source": [
    "f_bsObj = soup(f_raw.content,'html.parser')\n",
    "f_listings = f_bsObj.find_all(class_=\"cl-static-search-result\")"
   ],
   "outputs": [],
   "execution_count": 65
  },
  {
   "cell_type": "markdown",
   "metadata": {
    "id": "ymO8JbMmy3XY"
   },
   "source": [
    "Why is the argument `class_` and not just `class`? The word `class` is a reserved keyword for Python, and cannot be used by anyone else, similar to `True` and `False`. But since we want the `class = \"cl-static-search-result\"` terms, we need to use the `class_` argument to the `.find_all` method.\n",
    "\n",
    "The `.find_all` function dredges the entire page and finds all the instances of `class = \"cl-static-search-result\"`, resulting in a list of entries. We can then parse the entries.\n",
    "\n",
    "For each listing, we'll use the `.find` method to search within the listing record for specific information. To get the information we want, we can then use `.get_text()`.\n",
    "\n",
    "In the code below, two more things happen.\n",
    "\n",
    "First, I would like to get the brand of the car from the post title, if possible. To do this, I split the title into words using `title.split()`, and then I use a list comprehension to look over every word in the title and check whether it appears in the `brands` list.\n",
    "\n",
    "Second, I would like to get the year the car was built, so I can determine the vehicle's age. To do this, I use a thing called **regular expressions** that provides a language for expressing patterns. Do I remember how to do this off the top of my head? No, I read a few pages in a book and looked on StackOverflow for answers. Roughly, in order to express the idea \"any year starting with 20xx,\" you can write `20[0-9][0-9]`, and for \"any year starting with 19xx,\" you can write `19[0-9][0-9]`. The `[0-9]`'s act as wildcards for any digit. This allows me to use the `re` package to find any instances of year-like numbers in the title text, using `re.search(r'20[0-9][0-9]|19[0-9][0-9]', title )`.\n",
    "\n",
    "This is all nested in a for-loop over the listings, and the data is appended to a list."
   ]
  },
  {
   "cell_type": "code",
   "metadata": {
    "id": "jw-U4BA-y3XY"
   },
   "source": [
    "import re # Regular expressions\n",
    "\n",
    "brands = ['honda', 'dodge','toyota','ford','tesla','gmc','jeep','bmw','mitsubishi','mazda',\n",
    "          'volvo','audi','volkswagen','chevy','chevrolet','acura','kia','subaru','lexus',\n",
    "          'cadillac','buick','porsche','infiniti']\n",
    "\n",
    "data = [] # We'll save our listings in this object\n",
    "for k in range( len(listings) ):\n",
    "    title = listings[k].find('div',class_='title').get_text().lower()\n",
    "    price = listings[k].find('div',class_='price').get_text()\n",
    "    link = listings[k].find(href=True)['href']\n",
    "    # Get brand from the title string:\n",
    "    words = title.split()\n",
    "    hits = [word for word in words if word in brands] # Find brands in the title\n",
    "    if len(hits) == 0:\n",
    "        brand = 'missing'\n",
    "    else:\n",
    "        brand = hits[0]\n",
    "    # Get years from title string:\n",
    "    regex_search = re.search(r'20[0-9][0-9]|19[0-9][0-9]', title) # Find year references\n",
    "    if regex_search is None: # If no hits, record year as missing value\n",
    "        year = np.nan\n",
    "    else: # If hits, record year as first match\n",
    "        year = regex_search.group(0)\n",
    "    \n",
    "    data.append({'title':title,'price':price,'year':year,'link':link,'brand':brand})\n"
   ],
   "outputs": [],
   "execution_count": null
  },
  {
   "metadata": {},
   "cell_type": "markdown",
   "source": "My Work"
  },
  {
   "metadata": {
    "ExecuteTime": {
     "end_time": "2024-10-06T21:13:57.325651Z",
     "start_time": "2024-10-06T21:13:57.291648Z"
    }
   },
   "cell_type": "code",
   "source": [
    "furnitures = ['chair', 'stool', 'bench', 'sofa', 'couch', 'bed', 'headboard', 'vanity', 'hammock', 'table', 'rack', 'bookshelf', 'cabinet', 'shelf', 'stand', 'chest', 'dresser', 'nightstand', 'crib', 'door', 'cart', 'mirror', 'dish', 'mattress', 'console', 'plant']\n",
    "\n",
    "f_data = []\n",
    "\n",
    "for i in range(len(furnitures)):\n",
    "    title = f_listings[i].find('div', class_='title').get_text().lower()\n",
    "    price = f_listings[i].find('div', class_='price').get_text()\n",
    "    if f_listings[i].find('div', class_='location'):\n",
    "        location = f_listings[i].find('div', class_='location').get_text()\n",
    "        location = re.sub(r'[^A-Za-z0-9]', '', location)\n",
    "    else:\n",
    "        location = 'missing'\n",
    "    link = f_listings[i].find(href=True)['href']\n",
    "    words = title.split()\n",
    "    hits = [word for word in words if word in furnitures]\n",
    "    \n",
    "    if len(hits) == 0:\n",
    "        furniture = 'missing'\n",
    "    else:\n",
    "        furniture = hits[0]\n",
    "    \n",
    "    regex_search = re.search(r'20[0-9][0-9]|19[0-9][0-9]', title)\n",
    "    \n",
    "    if regex_search is None:\n",
    "        year = np.nan\n",
    "    else:\n",
    "        year = regex_search.group(0)\n",
    "        \n",
    "    f_data.append({'title': title,'price': price,'year': year,'link': link,'furniture': furniture, 'location': location})"
   ],
   "outputs": [],
   "execution_count": 66
  },
  {
   "cell_type": "markdown",
   "metadata": {
    "id": "v8TjNu6uy3Xa"
   },
   "source": [
    "## 3. Wrangle your data, do some EDA, and make some plots. Try to find some interesting relationships or stories to tell about your data."
   ]
  },
  {
   "cell_type": "markdown",
   "metadata": {
    "id": "Mz4zVi80y3XZ"
   },
   "source": [
    "\n",
    "With the data scraped from Craigslist, we can put it in a dataframe and wrangle it. Of course, price and year come in as text, not numbers, and need to be typecast/coerced:"
   ]
  },
  {
   "cell_type": "code",
   "metadata": {
    "id": "KY1njgHcy3XZ",
    "outputId": "985126b7-e5e5-40c3-ba09-ed0b56625f69"
   },
   "source": [
    "## Wrangle the data\n",
    "df = pd.DataFrame.from_dict(data)\n",
    "df['price'] = df['price'].str.replace('$','')\n",
    "df['price'] = df['price'].str.replace(',','')\n",
    "df['price'] = pd.to_numeric(df['price'],errors='coerce')\n",
    "df['year'] = pd.to_numeric(df['year'],errors='coerce')\n",
    "df['age'] = 2025-df['year']\n",
    "print(df.shape)\n",
    "df.to_csv('craigslist_cville_cars.csv') # Save data in case of a disaster\n",
    "df.head()"
   ],
   "outputs": [],
   "execution_count": null
  },
  {
   "cell_type": "markdown",
   "metadata": {
    "id": "YBcg4XUoy3XZ"
   },
   "source": [
    "With the data in and wrangled, we can now do EDA:"
   ]
  },
  {
   "cell_type": "code",
   "metadata": {
    "id": "qBMwX_rFy3XZ",
    "outputId": "9abfa7a7-f4fb-4563-c0f6-531f74310c3e"
   },
   "source": [
    "# EDA for price and age:\n",
    "print(df['price'].describe())\n",
    "df['price'].hist(grid=False)\n",
    "plt.show()\n",
    "print(df['age'].describe())\n",
    "df['age'].hist(grid=False)\n",
    "plt.show()"
   ],
   "outputs": [],
   "execution_count": null
  },
  {
   "cell_type": "code",
   "metadata": {
    "id": "xsJPUF2wy3XZ",
    "outputId": "9a613e49-3b2b-4214-9ae3-9a5f0986ff6e"
   },
   "source": [
    "# Price by brand:\n",
    "df.loc[:,['price','brand']].groupby('brand').describe()"
   ],
   "outputs": [],
   "execution_count": null
  },
  {
   "cell_type": "code",
   "metadata": {
    "id": "XP4Q0dIdy3Xa",
    "outputId": "883e5889-5d9f-472b-d686-12a257490c23"
   },
   "source": [
    "# Age by brand:\n",
    "df.loc[:,['age','brand']].groupby('brand').describe()"
   ],
   "outputs": [],
   "execution_count": null
  },
  {
   "cell_type": "code",
   "metadata": {
    "id": "lHypfI-py3Xa",
    "outputId": "1f24c08e-e5d6-4f60-a944-e1760c3fd51d"
   },
   "source": [
    "ax = sns.scatterplot(data=df, x='age', y='price',hue='brand')\n",
    "sns.move_legend(ax, \"upper left\", bbox_to_anchor=(1, 1))"
   ],
   "outputs": [],
   "execution_count": null
  },
  {
   "cell_type": "code",
   "metadata": {
    "id": "LzFhDn50y3Xa",
    "outputId": "bd26a020-f944-4b07-f98f-40a64db9d94d"
   },
   "source": [
    "df['log_price'] = np.log(df['price'])\n",
    "df['log_age'] = np.log(df['age'])\n",
    "\n",
    "ax = sns.scatterplot(data=df, x='log_age', y='log_price',hue='brand')\n",
    "sns.move_legend(ax, \"upper left\", bbox_to_anchor=(1, 1))\n",
    "\n",
    "print(df.loc[:,['log_price','log_age']].cov())\n",
    "print(df.loc[:,['log_price','log_age']].corr())"
   ],
   "outputs": [],
   "execution_count": null
  },
  {
   "cell_type": "code",
   "metadata": {
    "id": "9yERjzXQy3Xa",
    "outputId": "014888b7-7043-4e62-fee4-25ef1dc3f55d"
   },
   "source": [
    "sns.jointplot(data=df, x='log_age', y='log_price',kind='hex')"
   ],
   "outputs": [],
   "execution_count": null
  },
  {
   "metadata": {},
   "cell_type": "markdown",
   "source": "Wrangling & EDA on Furniture Data"
  },
  {
   "metadata": {
    "ExecuteTime": {
     "end_time": "2024-10-06T21:14:35.364866Z",
     "start_time": "2024-10-06T21:14:35.292652Z"
    }
   },
   "cell_type": "code",
   "source": [
    "fdf = pd.DataFrame.from_dict(f_data)\n",
    "fdf['price'] = fdf['price'].str.replace('$','')\n",
    "fdf['price'] = fdf['price'].str.replace(',','')\n",
    "fdf['price'] = pd.to_numeric(fdf['price'],errors='coerce')\n",
    "fdf['year'] = pd.to_numeric(fdf['year'],errors='coerce')\n",
    "fdf['title'] = fdf['title'].str.lower()\n",
    "fdf['furniture'] = fdf['furniture'].str.lower()\n",
    "fdf.head()"
   ],
   "outputs": [
    {
     "data": {
      "text/plain": [
       "                                  title  price  year  \\\n",
       "0      free - toddler booster for chair      1   NaN   \n",
       "1                       free - bed rail      1   NaN   \n",
       "2  set of counter stools - world market     65   NaN   \n",
       "3           15 lite exterior glass door     50   NaN   \n",
       "4      vintage craftsman farmhouse door     85   NaN   \n",
       "\n",
       "                                                link furniture        location  \n",
       "0  https://charlottesville.craigslist.org/fuo/d/c...     chair  Johnsonvillage  \n",
       "1  https://charlottesville.craigslist.org/fuo/d/c...       bed  Johnsonvillage  \n",
       "2  https://charlottesville.craigslist.org/fuo/d/c...   missing  Johnsonvillage  \n",
       "3  https://charlottesville.craigslist.org/fuo/d/l...      door            Reva  \n",
       "4  https://charlottesville.craigslist.org/fuo/d/l...      door            Reva  "
      ],
      "text/html": [
       "<div>\n",
       "<style scoped>\n",
       "    .dataframe tbody tr th:only-of-type {\n",
       "        vertical-align: middle;\n",
       "    }\n",
       "\n",
       "    .dataframe tbody tr th {\n",
       "        vertical-align: top;\n",
       "    }\n",
       "\n",
       "    .dataframe thead th {\n",
       "        text-align: right;\n",
       "    }\n",
       "</style>\n",
       "<table border=\"1\" class=\"dataframe\">\n",
       "  <thead>\n",
       "    <tr style=\"text-align: right;\">\n",
       "      <th></th>\n",
       "      <th>title</th>\n",
       "      <th>price</th>\n",
       "      <th>year</th>\n",
       "      <th>link</th>\n",
       "      <th>furniture</th>\n",
       "      <th>location</th>\n",
       "    </tr>\n",
       "  </thead>\n",
       "  <tbody>\n",
       "    <tr>\n",
       "      <th>0</th>\n",
       "      <td>free - toddler booster for chair</td>\n",
       "      <td>1</td>\n",
       "      <td>NaN</td>\n",
       "      <td>https://charlottesville.craigslist.org/fuo/d/c...</td>\n",
       "      <td>chair</td>\n",
       "      <td>Johnsonvillage</td>\n",
       "    </tr>\n",
       "    <tr>\n",
       "      <th>1</th>\n",
       "      <td>free - bed rail</td>\n",
       "      <td>1</td>\n",
       "      <td>NaN</td>\n",
       "      <td>https://charlottesville.craigslist.org/fuo/d/c...</td>\n",
       "      <td>bed</td>\n",
       "      <td>Johnsonvillage</td>\n",
       "    </tr>\n",
       "    <tr>\n",
       "      <th>2</th>\n",
       "      <td>set of counter stools - world market</td>\n",
       "      <td>65</td>\n",
       "      <td>NaN</td>\n",
       "      <td>https://charlottesville.craigslist.org/fuo/d/c...</td>\n",
       "      <td>missing</td>\n",
       "      <td>Johnsonvillage</td>\n",
       "    </tr>\n",
       "    <tr>\n",
       "      <th>3</th>\n",
       "      <td>15 lite exterior glass door</td>\n",
       "      <td>50</td>\n",
       "      <td>NaN</td>\n",
       "      <td>https://charlottesville.craigslist.org/fuo/d/l...</td>\n",
       "      <td>door</td>\n",
       "      <td>Reva</td>\n",
       "    </tr>\n",
       "    <tr>\n",
       "      <th>4</th>\n",
       "      <td>vintage craftsman farmhouse door</td>\n",
       "      <td>85</td>\n",
       "      <td>NaN</td>\n",
       "      <td>https://charlottesville.craigslist.org/fuo/d/l...</td>\n",
       "      <td>door</td>\n",
       "      <td>Reva</td>\n",
       "    </tr>\n",
       "  </tbody>\n",
       "</table>\n",
       "</div>"
      ]
     },
     "execution_count": 67,
     "metadata": {},
     "output_type": "execute_result"
    }
   ],
   "execution_count": 67
  },
  {
   "metadata": {
    "ExecuteTime": {
     "end_time": "2024-10-06T21:14:38.277098Z",
     "start_time": "2024-10-06T21:14:38.068244Z"
    }
   },
   "cell_type": "code",
   "source": [
    "print(fdf['price'].describe(), '\\n')\n",
    "fdf['price'].hist(grid=False)\n",
    "plt.title('Price Distribution of Furniture Items')\n",
    "plt.xlabel('Price')\n",
    "plt.ylabel('Frequency')"
   ],
   "outputs": [
    {
     "name": "stdout",
     "output_type": "stream",
     "text": [
      "count     26.000000\n",
      "mean      83.884615\n",
      "std       89.543432\n",
      "min        1.000000\n",
      "25%       26.250000\n",
      "50%       50.000000\n",
      "75%       82.500000\n",
      "max      350.000000\n",
      "Name: price, dtype: float64 \n",
      "\n"
     ]
    },
    {
     "data": {
      "text/plain": [
       "Text(0, 0.5, 'Frequency')"
      ]
     },
     "execution_count": 68,
     "metadata": {},
     "output_type": "execute_result"
    },
    {
     "data": {
      "text/plain": [
       "<Figure size 640x480 with 1 Axes>"
      ],
      "image/png": "[encoded data removed]"
     },
     "metadata": {},
     "output_type": "display_data"
    }
   ],
   "execution_count": 68
  },
  {
   "metadata": {
    "ExecuteTime": {
     "end_time": "2024-10-06T21:14:42.965792Z",
     "start_time": "2024-10-06T21:14:41.733924Z"
    }
   },
   "cell_type": "code",
   "source": [
    "# Missings, doors, racks, chairs, and benches were most common\n",
    "print(fdf['furniture'].value_counts(), '\\n')\n",
    "furniture_count = fdf['furniture'].value_counts().head(5)\n",
    "furniture_count.plot(kind='bar')\n",
    "plt.title('5 Most Common Furniture Types')\n",
    "plt.xlabel('Furniture Type')\n",
    "plt.ylabel('Count')"
   ],
   "outputs": [
    {
     "name": "stdout",
     "output_type": "stream",
     "text": [
      "furniture\n",
      "missing      13\n",
      "chair         3\n",
      "door          2\n",
      "rack          2\n",
      "bed           1\n",
      "bench         1\n",
      "mirror        1\n",
      "table         1\n",
      "bookshelf     1\n",
      "mattress      1\n",
      "Name: count, dtype: int64 \n",
      "\n"
     ]
    },
    {
     "data": {
      "text/plain": [
       "Text(0, 0.5, 'Count')"
      ]
     },
     "execution_count": 69,
     "metadata": {},
     "output_type": "execute_result"
    },
    {
     "data": {
      "text/plain": [
       "<Figure size 640x480 with 1 Axes>"
      ],
      "image/png": "[encoded data removed]"
     },
     "metadata": {},
     "output_type": "display_data"
    }
   ],
   "execution_count": 69
  },
  {
   "metadata": {
    "ExecuteTime": {
     "end_time": "2024-10-06T21:14:46.470790Z",
     "start_time": "2024-10-06T21:14:46.262314Z"
    }
   },
   "cell_type": "code",
   "source": [
    "# Mattresses, benches, tables, and cabinets most expensive\n",
    "# Wooden furniture tends to be more expensive\n",
    "avg_price = fdf.groupby('furniture')['price'].mean().head(10)\n",
    "avg_price.plot(kind='bar')\n",
    "plt.title('Average Price by Furniture Type')\n",
    "plt.xlabel('Furniture Type')\n",
    "plt.ylabel('Average Price')"
   ],
   "outputs": [
    {
     "data": {
      "text/plain": [
       "Text(0, 0.5, 'Average Price')"
      ]
     },
     "execution_count": 70,
     "metadata": {},
     "output_type": "execute_result"
    },
    {
     "data": {
      "text/plain": [
       "<Figure size 640x480 with 1 Axes>"
      ],
      "image/png": "[encoded data removed]"
     },
     "metadata": {},
     "output_type": "display_data"
    }
   ],
   "execution_count": 70
  },
  {
   "metadata": {
    "ExecuteTime": {
     "end_time": "2024-10-06T21:14:49.374128Z",
     "start_time": "2024-10-06T21:14:49.160204Z"
    }
   },
   "cell_type": "code",
   "source": [
    "# Hard to clean location data since there could be misspellings, special characters, non-cities, etc.\n",
    "# Seems like Charlottesville, Bremo Bluff, and, Nortonsville are most active\n",
    "location_count = fdf['location'].value_counts().head(10)\n",
    "location_count.plot(kind='bar')\n",
    "plt.title('Number of Listings by Location')\n",
    "plt.xlabel('Location')\n",
    "plt.ylabel('Count')"
   ],
   "outputs": [
    {
     "data": {
      "text/plain": [
       "Text(0, 0.5, 'Count')"
      ]
     },
     "execution_count": 71,
     "metadata": {},
     "output_type": "execute_result"
    },
    {
     "data": {
      "text/plain": [
       "<Figure size 640x480 with 1 Axes>"
      ],
      "image/png": "[encoded data removed]"
     },
     "metadata": {},
     "output_type": "display_data"
    }
   ],
   "execution_count": 71
  },
  {
   "cell_type": "markdown",
   "metadata": {
    "id": "bvLzSN6Gy3Xb"
   },
   "source": [
    "## 4. (Optional) From your search results, crawl to the links and extract more information about every listing in your original dataframe. Wrangle and do some EDA."
   ]
  },
  {
   "cell_type": "markdown",
   "metadata": {
    "id": "dd00T888y3Xa"
   },
   "source": [
    "The final thing we want to do is go from scraping a single page to crawling around.\n",
    "\n",
    "The idea here is that every web page is connected to some other page. By extracting links as we move from page to page, we can create a web crawler that wanders around for us, gathering information of interest.\n",
    "\n",
    "In this case, we want to use the search results to then visit each individual page for each listing. Since we saved the links to the web pages in the previous scrape, we can now simply for-loop over that column in the dataframe, visiting the page listing for each of the cars in the search results:"
   ]
  },
  {
   "cell_type": "code",
   "metadata": {
    "id": "gah68Z75y3Xa"
   },
   "source": [
    "import time # Time delays\n",
    "import random # Random numbers\n",
    "\n",
    "links = df['link']\n",
    "data = []\n",
    "for link in links: # about 3 minutes\n",
    "    time.sleep(random.randint(1, 3)) # Random delays\n",
    "    raw = requests.get(link,headers=header) # Get page\n",
    "    bsObj = soup(raw.content,'html.parser') # Parse the html\n",
    "    #\n",
    "    try:\n",
    "        year_post = bsObj.find(class_='attr important').find(class_ = 'valu year').get_text()\n",
    "    except:\n",
    "        year_post = np.nan\n",
    "    #\n",
    "    try:\n",
    "        condition = bsObj.find(class_='attr condition').find(href=True).get_text()\n",
    "    except:\n",
    "        condition = 'missing'\n",
    "    #\n",
    "    try:\n",
    "        cylinders = bsObj.find(class_='attr auto_cylinders').find(class_ = 'valu').get_text()\n",
    "        cylinders = cylinders.replace('\\n','')\n",
    "    except:\n",
    "        cylinders = 'missing'\n",
    "    #\n",
    "    try:\n",
    "        drivetrain = bsObj.find(class_='attr auto_drivetrain').find(href=True).get_text()\n",
    "    except:\n",
    "        drivetrain = 'missing'\n",
    "    #\n",
    "    try:\n",
    "        fuel = bsObj.find(class_='attr auto_fuel_type').find(href = True).get_text()\n",
    "    except:\n",
    "        fuel = 'missing'\n",
    "    #\n",
    "    try:\n",
    "        miles = bsObj.find(class_='attr auto_miles').find(class_ = 'valu').get_text()\n",
    "    except:\n",
    "        miles = np.nan\n",
    "    #\n",
    "    try:\n",
    "        color = bsObj.find(class_='attr auto_paint').find(href=True).get_text()\n",
    "    except:\n",
    "        color='missing'\n",
    "    #\n",
    "    try:\n",
    "        title = bsObj.find(class_='attr auto_title_status').find(href=True).get_text()\n",
    "    except:\n",
    "        title='missing'\n",
    "    #\n",
    "    try:\n",
    "        transmission = bsObj.find(class_='attr auto_transmission').find(href=True).get_text()\n",
    "    except:\n",
    "        transmission = 'missing'\n",
    "    #\n",
    "    try:\n",
    "        bodytype = bsObj.find(class_='attr auto_bodytype').find(href=True).get_text()\n",
    "    except:\n",
    "        bodytype = 'missing'\n",
    "    #\n",
    "    text = bsObj.find(id='postingbody').get_text()\n",
    "    text = text.replace('\\n','')\n",
    "    text = text.replace('QR Code Link to This Post','')\n",
    "    record = {'title':title,\n",
    "              'year_post':year_post,\n",
    "              'condition':condition,\n",
    "              'cylinders':cylinders,\n",
    "              'drivetrain':drivetrain,\n",
    "              'fuel':fuel,\n",
    "              'miles':miles,\n",
    "              'color':color,\n",
    "              'title':'title',\n",
    "              'transmission':transmission,\n",
    "              'bodytype':bodytype,\n",
    "              'text':text,}\n",
    "    data.append(record)"
   ],
   "outputs": [],
   "execution_count": null
  },
  {
   "cell_type": "markdown",
   "metadata": {
    "id": "ro7H8V54y3Xb"
   },
   "source": [
    "What are the new features here?\n",
    "\n",
    "First, we don't want to overwhelm the servers, so we put a small delay between each request of a listing, `time.sleep(random.randint(1, 3))`. This waits a random amount of time between 1 and 3 seconds to avoid overwhelming their server.\n",
    "\n",
    "Second, we use the try/except block. This is a useful control structure in general, but especially for web scraping. Python tries the statements under `try:`, and if it fails, executes the steps under `except:`. This can happen, in this case, with missing data, which crashes the crawler. Instead, we put our missing codes into our dataframe right away.\n",
    "\n",
    "Third, we used `.find().find().get_text()` to find the data we're looking for. In general, the structure of mark-up langauges like HTML and XML makes it possible to \"drill down\" into their entries and extract the information of interest. This exploitation of mark-up languages could be the subject of a whole course on procuring data from the web."
   ]
  },
  {
   "cell_type": "markdown",
   "metadata": {
    "id": "UrI6hrL6y3Xb"
   },
   "source": [
    "With the data scraped, we can make a new dataframe, combine it with the old one using `pd.concat`, and do some wrangling to clean the data up:"
   ]
  },
  {
   "cell_type": "code",
   "metadata": {
    "id": "SDM-sfRay3Xb"
   },
   "source": [
    "new_df = pd.DataFrame.from_dict(data)\n",
    "new_df.head()\n",
    "\n",
    "df = pd.concat([df,new_df],axis=1) # combine data frames\n",
    "df.head()\n",
    "\n",
    "df['miles'] = df['miles'].str.replace(',','')\n",
    "df['miles'] = pd.to_numeric(df['miles'],errors='coerce')\n",
    "\n",
    "df['year_post'] = df['year_post'].str.replace(',','')\n",
    "df['year_post'] = pd.to_numeric(df['year_post'],errors='coerce')\n",
    "df.to_csv('craiglist_cville_cars_long.csv')"
   ],
   "outputs": [],
   "execution_count": null
  }
 ],
 "metadata": {
  "kernelspec": {
   "display_name": "Python 3",
   "language": "python",
   "name": "python3"
  },
  "language_info": {
   "codemirror_mode": {
    "name": "ipython",
    "version": 3
   },
   "file_extension": ".py",
   "mimetype": "text/x-python",
   "name": "python",
   "nbconvert_exporter": "python",
   "pygments_lexer": "ipython3",
   "version": "3.10.12"
  },
  "colab": {
   "provenance": []
  }
 },
 "nbformat": 4,
 "nbformat_minor": 0
}
